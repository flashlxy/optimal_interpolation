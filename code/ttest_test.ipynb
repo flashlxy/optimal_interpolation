{
 "worksheets": [
  {
   "cells": [
    {
     "cell_type": "code",
     "metadata": {},
     "outputs": [],
     "input": [
      "import numpy as np\n",
      "import scipy.stats as stats"
     ],
     "language": "python",
     "prompt_number": 2
    },
    {
     "cell_type": "markdown",
     "metadata": {},
     "source": [
      "Create random vectors"
     ]
    },
    {
     "cell_type": "code",
     "metadata": {},
     "outputs": [],
     "input": [
      "np.random.seed(120)\n",
      "x = np.random.randn(1000)\n",
      "y = np.random.randn(1000)"
     ],
     "language": "python",
     "prompt_number": 3
    },
    {
     "cell_type": "markdown",
     "metadata": {},
     "source": [
      "Create traditional ttest function"
     ]
    },
    {
     "cell_type": "code",
     "metadata": {},
     "outputs": [],
     "input": [
      "def ttest_nls(x, y, mu=0):\n",
      "    '''\n",
      "    Returns t-statistic and p-value from a two-sided independent Student's t-test\n",
      "    '''\n",
      "    nx = len(x)\n",
      "    ny = len(y)\n",
      "    sdx = np.std(x, ddof=1)\n",
      "    sdy = np.std(y, ddof=1)\n",
      "    df = nx + ny - 2\n",
      "    sstd = (((nx-1)*sdx**2) + ((ny-1)*sdy**2))/float(df)\n",
      "    num = np.mean(x) - np.mean(y) - mu\n",
      "    den = np.sqrt(sstd*(1.0/nx + 1.0/ny))\n",
      "    t = num/den\n",
      "    p = stats.t.sf(np.abs(t), df)\n",
      "    return t, p"
     ],
     "language": "python",
     "prompt_number": 4
    },
    {
     "cell_type": "markdown",
     "metadata": {},
     "source": [
      "Create ttest function that incorporates mu in the denominator"
     ]
    },
    {
     "cell_type": "code",
     "metadata": {},
     "outputs": [],
     "input": [
      "def ttest_mm(x, y, mu=0):\n",
      "    '''\n",
      "    Returns t-statistic and p-value from a two-sided independent Student's t-test\n",
      "    '''\n",
      "    nx = len(x)\n",
      "    ny = len(y)\n",
      "    sdx = np.std(x, ddof=1) + mu\n",
      "    sdy = np.std(y, ddof=1) + mu\n",
      "    df = nx + ny - 2\n",
      "    sstd = (((nx-1)*sdx**2) + ((ny-1)*sdy**2))/float(df)\n",
      "    num = np.mean(x) - np.mean(y)\n",
      "    den = np.sqrt(sstd*(1.0/nx + 1.0/ny))\n",
      "    t = num/den\n",
      "    p = stats.t.sf(np.abs(t), df)\n",
      "    return t, p"
     ],
     "language": "python",
     "prompt_number": 5
    },
    {
     "cell_type": "markdown",
     "metadata": {},
     "source": [
      "Test ttest functions"
     ]
    },
    {
     "cell_type": "code",
     "metadata": {},
     "outputs": [],
     "input": [
      "mu = np.mean(x-y)\n",
      "t_nls = ttest_nls(x, y, mu)\n",
      "t_mm = ttest_mm(x, y, mu)"
     ],
     "language": "python",
     "prompt_number": 6
    },
    {
     "cell_type": "code",
     "metadata": {},
     "outputs": [
      {
       "output_type": "pyout",
       "text": [
        "(-1.2408276451071122e-15, 0.4999999999999995)"
       ],
       "metadata": {}
      }
     ],
     "input": [
      "t_nls"
     ],
     "language": "python",
     "prompt_number": 7
    },
    {
     "cell_type": "code",
     "metadata": {},
     "outputs": [
      {
       "output_type": "pyout",
       "text": [
        "(1.6541971465808336, 0.049122268924404411)"
       ],
       "metadata": {}
      }
     ],
     "input": [
      "t_mm"
     ],
     "language": "python",
     "prompt_number": 10
    },
    {
     "cell_type": "code",
     "metadata": {},
     "outputs": [
      {
       "output_type": "pyout",
       "text": [
        "0.079916168144598801"
       ],
       "metadata": {}
      }
     ],
     "input": [
      "np.mean(x-y)"
     ],
     "language": "python",
     "prompt_number": 9
    },
    {
     "cell_type": "code",
     "metadata": {},
     "outputs": [],
     "input": [
      ""
     ],
     "language": "python"
    }
   ]
  }
 ],
 "cells": [],
 "metadata": {
  "signature": "sha256:ab869d2cb960abd5c524a50ce290a0afd577ee9c473140798ae159249a207e01"
 },
 "nbformat": 3,
 "nbformat_minor": 0
}